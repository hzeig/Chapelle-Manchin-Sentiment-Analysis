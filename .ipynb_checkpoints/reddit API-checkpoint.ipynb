{
 "cells": [
  {
   "cell_type": "code",
   "execution_count": null,
   "id": "976ecc38-e975-4170-8e72-7fa28be58274",
   "metadata": {},
   "outputs": [],
   "source": []
  },
  {
   "cell_type": "code",
   "execution_count": 1,
   "id": "68c56251-05d9-4c8a-b320-265e8bde9285",
   "metadata": {},
   "outputs": [],
   "source": [
    "import requests\n",
    "import settings as stg"
   ]
  },
  {
   "cell_type": "code",
   "execution_count": 2,
   "id": "f6e34f61-f714-44b7-9a15-9adc5f3cbb85",
   "metadata": {},
   "outputs": [],
   "source": [
    "auth = requests.auth.HTTPBasicAuth(stg.ra['CLIENT_ID'], stg.ra['SECRET_KEY'])"
   ]
  },
  {
   "cell_type": "code",
   "execution_count": 3,
   "id": "cbb6a3f3-0c54-4d37-8fa8-ac5004f3524b",
   "metadata": {},
   "outputs": [],
   "source": [
    "data ={'grant_type': 'password',\n",
    "         'username': 'hadarlovestrees',\n",
    "         'password': stg.pw}"
   ]
  }
 ],
 "metadata": {
  "kernelspec": {
   "display_name": "Python 3",
   "language": "python",
   "name": "python3"
  },
  "language_info": {
   "codemirror_mode": {
    "name": "ipython",
    "version": 3
   },
   "file_extension": ".py",
   "mimetype": "text/x-python",
   "name": "python",
   "nbconvert_exporter": "python",
   "pygments_lexer": "ipython3",
   "version": "3.8.8"
  }
 },
 "nbformat": 4,
 "nbformat_minor": 5
}
